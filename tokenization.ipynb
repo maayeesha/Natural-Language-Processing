{
 "cells": [
  {
   "cell_type": "code",
   "execution_count": 1,
   "id": "25c4dfd1-dad6-4329-9957-6c9516504a2e",
   "metadata": {},
   "outputs": [],
   "source": [
    "import spacy"
   ]
  },
  {
   "cell_type": "code",
   "execution_count": 3,
   "id": "d044fe87-8a02-4681-af73-fa92f7207130",
   "metadata": {},
   "outputs": [
    {
     "name": "stdout",
     "output_type": "stream",
     "text": [
      "Dr. stranger loves pav bhaji of Mumbai.\n",
      "Hulk likes Chat of Delhi\n"
     ]
    }
   ],
   "source": [
    "nlp = spacy.load(\"en_core_web_sm\")\n",
    "doc = nlp(\"Dr. stranger loves pav bhaji of Mumbai. Hulk likes Chat of Delhi\")\n",
    "\n",
    "for sentence in doc.sents:\n",
    "    print(sentence)\n"
   ]
  },
  {
   "cell_type": "code",
   "execution_count": 4,
   "id": "95dddf76-a03f-4ba2-b095-eee505dba970",
   "metadata": {},
   "outputs": [
    {
     "name": "stdout",
     "output_type": "stream",
     "text": [
      "Dr.\n",
      "stranger\n",
      "loves\n",
      "pav\n",
      "bhaji\n",
      "of\n",
      "Mumbai\n",
      ".\n",
      "Hulk\n",
      "likes\n",
      "Chat\n",
      "of\n",
      "Delhi\n"
     ]
    }
   ],
   "source": [
    "for sentence in doc.sents:\n",
    "    for word in sentence:\n",
    "        print(word)\n",
    "    "
   ]
  },
  {
   "cell_type": "code",
   "execution_count": 5,
   "id": "aacba410-a086-4b0b-ab9e-ae0410c06993",
   "metadata": {},
   "outputs": [],
   "source": [
    "import nltk"
   ]
  },
  {
   "cell_type": "code",
   "execution_count": null,
   "id": "584785e4-36b5-4bcb-82fa-79959a04c88a",
   "metadata": {},
   "outputs": [],
   "source": [
    "from nltk.tokenize import "
   ]
  }
 ],
 "metadata": {
  "kernelspec": {
   "display_name": "Python 3 (ipykernel)",
   "language": "python",
   "name": "python3"
  },
  "language_info": {
   "codemirror_mode": {
    "name": "ipython",
    "version": 3
   },
   "file_extension": ".py",
   "mimetype": "text/x-python",
   "name": "python",
   "nbconvert_exporter": "python",
   "pygments_lexer": "ipython3",
   "version": "3.11.5"
  }
 },
 "nbformat": 4,
 "nbformat_minor": 5
}
