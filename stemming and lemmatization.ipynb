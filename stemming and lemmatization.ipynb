{
 "cells": [
  {
   "cell_type": "code",
   "execution_count": 7,
   "id": "1ca4af72",
   "metadata": {},
   "outputs": [],
   "source": [
    "import nltk\n",
    "import spacy"
   ]
  },
  {
   "cell_type": "code",
   "execution_count": 8,
   "id": "730483f7",
   "metadata": {},
   "outputs": [],
   "source": [
    "from nltk.stem import PorterStemmer\n"
   ]
  },
  {
   "cell_type": "code",
   "execution_count": 9,
   "id": "45c1cc3a",
   "metadata": {},
   "outputs": [],
   "source": [
    "stemmer = PorterStemmer() #stemmer class"
   ]
  },
  {
   "cell_type": "code",
   "execution_count": 10,
   "id": "2ef4f447",
   "metadata": {},
   "outputs": [
    {
     "name": "stdout",
     "output_type": "stream",
     "text": [
      "eating | eat\n",
      "understandable | understand\n",
      "available | avail\n",
      "singing | sing\n",
      "dancing | danc\n",
      "ability | abil\n"
     ]
    }
   ],
   "source": [
    "#stemmer doen's have knoledge of language \n",
    "words = [\"eating\",\"understandable\",\"available\",\"singing\",\"dancing\",\"ability\"]\n",
    "for word in words:\n",
    "    print(word,\"|\",stemmer.stem(word))"
   ]
  },
  {
   "cell_type": "code",
   "execution_count": 13,
   "id": "0cee0e55",
   "metadata": {},
   "outputs": [
    {
     "name": "stdout",
     "output_type": "stream",
     "text": [
      "eating  |  eat  |  9837207709914848172\n",
      "eat  |  eat  |  9837207709914848172\n",
      "ate  |  eat  |  9837207709914848172\n",
      "adjustable  |  adjustable  |  6033511944150694480\n",
      "singing  |  singing  |  13402777656386554723\n",
      "dancing  |  dancing  |  15178908730344292972\n",
      "ability  |  ability  |  11565809527369121409\n",
      "better  |  well  |  4525988469032889948\n"
     ]
    }
   ],
   "source": [
    "nlp = spacy.load(\"en_core_web_sm\")\n",
    "doc = nlp(\"eating eat ate adjustable singing dancing ability better\")\n",
    "for token in doc:\n",
    "    print(token,\" | \", token.lemma_, \" | \",token.lemma)\n",
    "    \n",
    "#different english models can have different lemma rules for example in this model better becomes well"
   ]
  },
  {
   "cell_type": "code",
   "execution_count": null,
   "id": "e943e9d1",
   "metadata": {},
   "outputs": [],
   "source": []
  }
 ],
 "metadata": {
  "kernelspec": {
   "display_name": "Python 3 (ipykernel)",
   "language": "python",
   "name": "python3"
  },
  "language_info": {
   "codemirror_mode": {
    "name": "ipython",
    "version": 3
   },
   "file_extension": ".py",
   "mimetype": "text/x-python",
   "name": "python",
   "nbconvert_exporter": "python",
   "pygments_lexer": "ipython3",
   "version": "3.11.5"
  }
 },
 "nbformat": 4,
 "nbformat_minor": 5
}
