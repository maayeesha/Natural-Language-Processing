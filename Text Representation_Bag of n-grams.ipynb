{
 "cells": [
  {
   "cell_type": "code",
   "execution_count": 1,
   "id": "efaf25ac",
   "metadata": {},
   "outputs": [],
   "source": [
    "from sklearn.feature_extraction.text import CountVectorizer"
   ]
  },
  {
   "cell_type": "code",
   "execution_count": 7,
   "id": "ce755176",
   "metadata": {},
   "outputs": [
    {
     "data": {
      "text/plain": [
       "{'maayeesha': 7,\n",
       " 'is': 2,\n",
       " 'looking': 5,\n",
       " 'for': 0,\n",
       " 'job': 4,\n",
       " 'maayeesha is': 8,\n",
       " 'is looking': 3,\n",
       " 'looking for': 6,\n",
       " 'for job': 1}"
      ]
     },
     "execution_count": 7,
     "metadata": {},
     "output_type": "execute_result"
    }
   ],
   "source": [
    "v = CountVectorizer(ngram_range = (1,2)) #(1,2) for BOW and bigrams, (2,2) for bigrams etc.\n",
    "v.fit(['Maayeesha is looking for a job'])\n",
    "v.vocabulary_"
   ]
  },
  {
   "cell_type": "code",
   "execution_count": 38,
   "id": "fc5a8a55",
   "metadata": {},
   "outputs": [],
   "source": [
    "corpus = [\"Maayeesha ate pizza\",\"Farzana is tall\",\"Farzana is eating pizza\"]"
   ]
  },
  {
   "cell_type": "code",
   "execution_count": 43,
   "id": "c06ab20a",
   "metadata": {},
   "outputs": [
    {
     "data": {
      "text/plain": [
       "'Farzana eat piza'"
      ]
     },
     "execution_count": 43,
     "metadata": {},
     "output_type": "execute_result"
    }
   ],
   "source": [
    "import spacy\n",
    "nlp = spacy.load(\"en_core_web_sm\")\n",
    "\n",
    "def preprocess(text):\n",
    "    doc = nlp(text)\n",
    "    filtered_tokens=[]\n",
    "    for token in doc:\n",
    "        if token.is_stop or token.is_punct:\n",
    "            continue\n",
    "        filtered_tokens.append(token.lemma_)\n",
    "    return \" \".join(filtered_tokens)\n",
    "\n",
    "preprocess(\"Farzana is eating piza\")"
   ]
  },
  {
   "cell_type": "code",
   "execution_count": 44,
   "id": "67903428",
   "metadata": {},
   "outputs": [
    {
     "data": {
      "text/plain": [
       "['Maayeesha eat pizza', 'Farzana tall', 'Farzana eat pizza']"
      ]
     },
     "execution_count": 44,
     "metadata": {},
     "output_type": "execute_result"
    }
   ],
   "source": [
    "corpus_processed = [preprocess(text) for text in corpus]\n",
    "corpus_processed"
   ]
  },
  {
   "cell_type": "code",
   "execution_count": 45,
   "id": "c6b6b0fe",
   "metadata": {},
   "outputs": [
    {
     "data": {
      "text/plain": [
       "{'maayeesha': 5,\n",
       " 'eat': 0,\n",
       " 'pizza': 7,\n",
       " 'maayeesha eat': 6,\n",
       " 'eat pizza': 1,\n",
       " 'farzana': 2,\n",
       " 'tall': 8,\n",
       " 'farzana tall': 4,\n",
       " 'farzana eat': 3}"
      ]
     },
     "execution_count": 45,
     "metadata": {},
     "output_type": "execute_result"
    }
   ],
   "source": [
    "v = CountVectorizer(ngram_range=(1,2))\n",
    "v.fit(corpus_processed)\n",
    "v.vocabulary_"
   ]
  },
  {
   "cell_type": "code",
   "execution_count": 48,
   "id": "9fed86db",
   "metadata": {},
   "outputs": [
    {
     "data": {
      "text/plain": [
       "array([[1, 1, 0, 0, 0, 1, 1, 1, 0]])"
      ]
     },
     "execution_count": 48,
     "metadata": {},
     "output_type": "execute_result"
    }
   ],
   "source": [
    "v.transform([\"Maayeesha eat pizza\"]).toarray()"
   ]
  },
  {
   "cell_type": "code",
   "execution_count": 49,
   "id": "abdacb36",
   "metadata": {},
   "outputs": [
    {
     "data": {
      "text/plain": [
       "array([[1, 1, 1, 1, 0, 1, 0, 1, 1]])"
      ]
     },
     "execution_count": 49,
     "metadata": {},
     "output_type": "execute_result"
    }
   ],
   "source": [
    "v.transform([\"Farzana eat pizza and Maayeesha is tall\"]).toarray()"
   ]
  },
  {
   "cell_type": "code",
   "execution_count": 54,
   "id": "c8096e6c",
   "metadata": {},
   "outputs": [
    {
     "name": "stdout",
     "output_type": "stream",
     "text": [
      "(209527, 6)\n"
     ]
    },
    {
     "data": {
      "text/html": [
       "<div>\n",
       "<style scoped>\n",
       "    .dataframe tbody tr th:only-of-type {\n",
       "        vertical-align: middle;\n",
       "    }\n",
       "\n",
       "    .dataframe tbody tr th {\n",
       "        vertical-align: top;\n",
       "    }\n",
       "\n",
       "    .dataframe thead th {\n",
       "        text-align: right;\n",
       "    }\n",
       "</style>\n",
       "<table border=\"1\" class=\"dataframe\">\n",
       "  <thead>\n",
       "    <tr style=\"text-align: right;\">\n",
       "      <th></th>\n",
       "      <th>link</th>\n",
       "      <th>headline</th>\n",
       "      <th>category</th>\n",
       "      <th>short_description</th>\n",
       "      <th>authors</th>\n",
       "      <th>date</th>\n",
       "    </tr>\n",
       "  </thead>\n",
       "  <tbody>\n",
       "    <tr>\n",
       "      <th>0</th>\n",
       "      <td>https://www.huffpost.com/entry/covid-boosters-...</td>\n",
       "      <td>Over 4 Million Americans Roll Up Sleeves For O...</td>\n",
       "      <td>U.S. NEWS</td>\n",
       "      <td>Health experts said it is too early to predict...</td>\n",
       "      <td>Carla K. Johnson, AP</td>\n",
       "      <td>2022-09-23</td>\n",
       "    </tr>\n",
       "    <tr>\n",
       "      <th>1</th>\n",
       "      <td>https://www.huffpost.com/entry/american-airlin...</td>\n",
       "      <td>American Airlines Flyer Charged, Banned For Li...</td>\n",
       "      <td>U.S. NEWS</td>\n",
       "      <td>He was subdued by passengers and crew when he ...</td>\n",
       "      <td>Mary Papenfuss</td>\n",
       "      <td>2022-09-23</td>\n",
       "    </tr>\n",
       "    <tr>\n",
       "      <th>2</th>\n",
       "      <td>https://www.huffpost.com/entry/funniest-tweets...</td>\n",
       "      <td>23 Of The Funniest Tweets About Cats And Dogs ...</td>\n",
       "      <td>COMEDY</td>\n",
       "      <td>\"Until you have a dog you don't understand wha...</td>\n",
       "      <td>Elyse Wanshel</td>\n",
       "      <td>2022-09-23</td>\n",
       "    </tr>\n",
       "    <tr>\n",
       "      <th>3</th>\n",
       "      <td>https://www.huffpost.com/entry/funniest-parent...</td>\n",
       "      <td>The Funniest Tweets From Parents This Week (Se...</td>\n",
       "      <td>PARENTING</td>\n",
       "      <td>\"Accidentally put grown-up toothpaste on my to...</td>\n",
       "      <td>Caroline Bologna</td>\n",
       "      <td>2022-09-23</td>\n",
       "    </tr>\n",
       "    <tr>\n",
       "      <th>4</th>\n",
       "      <td>https://www.huffpost.com/entry/amy-cooper-lose...</td>\n",
       "      <td>Woman Who Called Cops On Black Bird-Watcher Lo...</td>\n",
       "      <td>U.S. NEWS</td>\n",
       "      <td>Amy Cooper accused investment firm Franklin Te...</td>\n",
       "      <td>Nina Golgowski</td>\n",
       "      <td>2022-09-22</td>\n",
       "    </tr>\n",
       "  </tbody>\n",
       "</table>\n",
       "</div>"
      ],
      "text/plain": [
       "                                                link  \\\n",
       "0  https://www.huffpost.com/entry/covid-boosters-...   \n",
       "1  https://www.huffpost.com/entry/american-airlin...   \n",
       "2  https://www.huffpost.com/entry/funniest-tweets...   \n",
       "3  https://www.huffpost.com/entry/funniest-parent...   \n",
       "4  https://www.huffpost.com/entry/amy-cooper-lose...   \n",
       "\n",
       "                                            headline   category  \\\n",
       "0  Over 4 Million Americans Roll Up Sleeves For O...  U.S. NEWS   \n",
       "1  American Airlines Flyer Charged, Banned For Li...  U.S. NEWS   \n",
       "2  23 Of The Funniest Tweets About Cats And Dogs ...     COMEDY   \n",
       "3  The Funniest Tweets From Parents This Week (Se...  PARENTING   \n",
       "4  Woman Who Called Cops On Black Bird-Watcher Lo...  U.S. NEWS   \n",
       "\n",
       "                                   short_description               authors  \\\n",
       "0  Health experts said it is too early to predict...  Carla K. Johnson, AP   \n",
       "1  He was subdued by passengers and crew when he ...        Mary Papenfuss   \n",
       "2  \"Until you have a dog you don't understand wha...         Elyse Wanshel   \n",
       "3  \"Accidentally put grown-up toothpaste on my to...      Caroline Bologna   \n",
       "4  Amy Cooper accused investment firm Franklin Te...        Nina Golgowski   \n",
       "\n",
       "        date  \n",
       "0 2022-09-23  \n",
       "1 2022-09-23  \n",
       "2 2022-09-23  \n",
       "3 2022-09-23  \n",
       "4 2022-09-22  "
      ]
     },
     "execution_count": 54,
     "metadata": {},
     "output_type": "execute_result"
    }
   ],
   "source": [
    "import pandas as pd\n",
    "df = pd.read_json(\"/Users/admin/Downloads/News_Category_Dataset_v3.json\",lines=True)\n",
    "print(df.shape)\n",
    "df.head()"
   ]
  },
  {
   "cell_type": "code",
   "execution_count": 56,
   "id": "8d13254c",
   "metadata": {},
   "outputs": [
    {
     "data": {
      "text/plain": [
       "category\n",
       "POLITICS          35602\n",
       "WELLNESS          17945\n",
       "ENTERTAINMENT     17362\n",
       "TRAVEL             9900\n",
       "STYLE & BEAUTY     9814\n",
       "PARENTING          8791\n",
       "HEALTHY LIVING     6694\n",
       "QUEER VOICES       6347\n",
       "FOOD & DRINK       6340\n",
       "BUSINESS           5992\n",
       "COMEDY             5400\n",
       "SPORTS             5077\n",
       "BLACK VOICES       4583\n",
       "HOME & LIVING      4320\n",
       "PARENTS            3955\n",
       "THE WORLDPOST      3664\n",
       "WEDDINGS           3653\n",
       "WOMEN              3572\n",
       "CRIME              3562\n",
       "IMPACT             3484\n",
       "DIVORCE            3426\n",
       "WORLD NEWS         3299\n",
       "MEDIA              2944\n",
       "WEIRD NEWS         2777\n",
       "GREEN              2622\n",
       "WORLDPOST          2579\n",
       "RELIGION           2577\n",
       "STYLE              2254\n",
       "SCIENCE            2206\n",
       "TECH               2104\n",
       "TASTE              2096\n",
       "MONEY              1756\n",
       "ARTS               1509\n",
       "ENVIRONMENT        1444\n",
       "FIFTY              1401\n",
       "GOOD NEWS          1398\n",
       "U.S. NEWS          1377\n",
       "ARTS & CULTURE     1339\n",
       "COLLEGE            1144\n",
       "LATINO VOICES      1130\n",
       "CULTURE & ARTS     1074\n",
       "EDUCATION          1014\n",
       "Name: count, dtype: int64"
      ]
     },
     "execution_count": 56,
     "metadata": {},
     "output_type": "execute_result"
    }
   ],
   "source": [
    "df.category.value_counts()"
   ]
  },
  {
   "cell_type": "code",
   "execution_count": 60,
   "id": "b31db5c5",
   "metadata": {},
   "outputs": [],
   "source": [
    "min_samples = 1014\n",
    "df_politics = df[df.category==\"POLITICS\"].sample(min_samples,random_state=2022)\n",
    "df_edu = df[df.category==\"EDUCATION\"].sample(min_samples,random_state=2022)\n",
    "df_crime = df[df.category==\"CRIME\"].sample(min_samples,random_state=2022)\n",
    "df_women = df[df.category==\"WOMEN\"].sample(min_samples,random_state=2022)"
   ]
  },
  {
   "cell_type": "code",
   "execution_count": 62,
   "id": "93a65dbe",
   "metadata": {},
   "outputs": [
    {
     "data": {
      "text/plain": [
       "category\n",
       "POLITICS     1014\n",
       "EDUCATION    1014\n",
       "CRIME        1014\n",
       "WOMEN        1014\n",
       "Name: count, dtype: int64"
      ]
     },
     "execution_count": 62,
     "metadata": {},
     "output_type": "execute_result"
    }
   ],
   "source": [
    "df_balanced = pd.concat([df_politics,df_edu,df_crime,df_women],axis=0)\n",
    "df_balanced.category.value_counts()"
   ]
  },
  {
   "cell_type": "code",
   "execution_count": 63,
   "id": "dff9d113",
   "metadata": {},
   "outputs": [],
   "source": [
    "df_balanced[\"category_num\"] = df_balanced.category.map( {\"POLITICS\":0,\"EDUCATION\":1,\"CRIME\":2,\"WOMEN\":3})"
   ]
  },
  {
   "cell_type": "code",
   "execution_count": 64,
   "id": "94bfe9bc",
   "metadata": {},
   "outputs": [
    {
     "data": {
      "text/html": [
       "<div>\n",
       "<style scoped>\n",
       "    .dataframe tbody tr th:only-of-type {\n",
       "        vertical-align: middle;\n",
       "    }\n",
       "\n",
       "    .dataframe tbody tr th {\n",
       "        vertical-align: top;\n",
       "    }\n",
       "\n",
       "    .dataframe thead th {\n",
       "        text-align: right;\n",
       "    }\n",
       "</style>\n",
       "<table border=\"1\" class=\"dataframe\">\n",
       "  <thead>\n",
       "    <tr style=\"text-align: right;\">\n",
       "      <th></th>\n",
       "      <th>link</th>\n",
       "      <th>headline</th>\n",
       "      <th>category</th>\n",
       "      <th>short_description</th>\n",
       "      <th>authors</th>\n",
       "      <th>date</th>\n",
       "      <th>category_num</th>\n",
       "    </tr>\n",
       "  </thead>\n",
       "  <tbody>\n",
       "    <tr>\n",
       "      <th>16014</th>\n",
       "      <td>https://www.huffingtonpost.com/entry/trump-hea...</td>\n",
       "      <td>The Coverage Of Trump’s Big Dumb Body Is Fat W...</td>\n",
       "      <td>POLITICS</td>\n",
       "      <td>The president, it evidently needs to be said, ...</td>\n",
       "      <td>Travis Waldron</td>\n",
       "      <td>2018-01-18</td>\n",
       "      <td>0</td>\n",
       "    </tr>\n",
       "    <tr>\n",
       "      <th>25545</th>\n",
       "      <td>https://www.huffingtonpost.com/entry/dreamers-...</td>\n",
       "      <td>Dreamers Are People, Not Political Footballs</td>\n",
       "      <td>POLITICS</td>\n",
       "      <td>People should not be reduced to pawns used by ...</td>\n",
       "      <td>Center for Community Change Action, Contributo...</td>\n",
       "      <td>2017-09-09</td>\n",
       "      <td>0</td>\n",
       "    </tr>\n",
       "    <tr>\n",
       "      <th>51291</th>\n",
       "      <td>https://www.huffingtonpost.com/entry/democrats...</td>\n",
       "      <td>Democrats Must Elect Bernie Sanders Senate Min...</td>\n",
       "      <td>POLITICS</td>\n",
       "      <td>The Senate will meet this Wednesday to elect i...</td>\n",
       "      <td>Linda Milazzo, ContributorParticipatory journa...</td>\n",
       "      <td>2016-11-13</td>\n",
       "      <td>0</td>\n",
       "    </tr>\n",
       "    <tr>\n",
       "      <th>41123</th>\n",
       "      <td>https://www.huffingtonpost.com/entry/jcc-lette...</td>\n",
       "      <td>Jewish Leaders Frustrated By Lack Of Progress ...</td>\n",
       "      <td>POLITICS</td>\n",
       "      <td>In a letter to Attorney General Jeff Sessions,...</td>\n",
       "      <td>Matt Ferner</td>\n",
       "      <td>2017-03-08</td>\n",
       "      <td>0</td>\n",
       "    </tr>\n",
       "    <tr>\n",
       "      <th>10450</th>\n",
       "      <td>https://www.huffingtonpost.com/entry/donald-tr...</td>\n",
       "      <td>Donald Trump Roasted For Painfully Awkward Att...</td>\n",
       "      <td>POLITICS</td>\n",
       "      <td>Well, that didn't seem to go as planned.</td>\n",
       "      <td>Rebecca Shapiro</td>\n",
       "      <td>2018-04-24</td>\n",
       "      <td>0</td>\n",
       "    </tr>\n",
       "  </tbody>\n",
       "</table>\n",
       "</div>"
      ],
      "text/plain": [
       "                                                    link  \\\n",
       "16014  https://www.huffingtonpost.com/entry/trump-hea...   \n",
       "25545  https://www.huffingtonpost.com/entry/dreamers-...   \n",
       "51291  https://www.huffingtonpost.com/entry/democrats...   \n",
       "41123  https://www.huffingtonpost.com/entry/jcc-lette...   \n",
       "10450  https://www.huffingtonpost.com/entry/donald-tr...   \n",
       "\n",
       "                                                headline  category  \\\n",
       "16014  The Coverage Of Trump’s Big Dumb Body Is Fat W...  POLITICS   \n",
       "25545       Dreamers Are People, Not Political Footballs  POLITICS   \n",
       "51291  Democrats Must Elect Bernie Sanders Senate Min...  POLITICS   \n",
       "41123  Jewish Leaders Frustrated By Lack Of Progress ...  POLITICS   \n",
       "10450  Donald Trump Roasted For Painfully Awkward Att...  POLITICS   \n",
       "\n",
       "                                       short_description  \\\n",
       "16014  The president, it evidently needs to be said, ...   \n",
       "25545  People should not be reduced to pawns used by ...   \n",
       "51291  The Senate will meet this Wednesday to elect i...   \n",
       "41123  In a letter to Attorney General Jeff Sessions,...   \n",
       "10450           Well, that didn't seem to go as planned.   \n",
       "\n",
       "                                                 authors       date  \\\n",
       "16014                                     Travis Waldron 2018-01-18   \n",
       "25545  Center for Community Change Action, Contributo... 2017-09-09   \n",
       "51291  Linda Milazzo, ContributorParticipatory journa... 2016-11-13   \n",
       "41123                                        Matt Ferner 2017-03-08   \n",
       "10450                                    Rebecca Shapiro 2018-04-24   \n",
       "\n",
       "       category_num  \n",
       "16014             0  \n",
       "25545             0  \n",
       "51291             0  \n",
       "41123             0  \n",
       "10450             0  "
      ]
     },
     "execution_count": 64,
     "metadata": {},
     "output_type": "execute_result"
    }
   ],
   "source": [
    "df_balanced.head()"
   ]
  },
  {
   "cell_type": "code",
   "execution_count": 66,
   "id": "7e541f3a",
   "metadata": {},
   "outputs": [],
   "source": [
    "from sklearn.model_selection import train_test_split\n",
    "X_train, X_test,y_train,y_test = train_test_split(df_balanced.short_description\t,df_balanced.category_num,test_size=0.2,random_state=2022,stratify = df_balanced.category_num)"
   ]
  },
  {
   "cell_type": "code",
   "execution_count": 69,
   "id": "5587f7e6",
   "metadata": {},
   "outputs": [
    {
     "name": "stdout",
     "output_type": "stream",
     "text": [
      "(3244,)\n"
     ]
    },
    {
     "data": {
      "text/plain": [
       "68242     Los Angeles police investigators obtained a me...\n",
       "20146     Ivanka Trump helped a fugitive become the lead...\n",
       "38963     Randi Bergman, 31, found relics left in a clos...\n",
       "125586                                                     \n",
       "72285     I am not asking anyone to stop supporting Bern...\n",
       "Name: short_description, dtype: object"
      ]
     },
     "execution_count": 69,
     "metadata": {},
     "output_type": "execute_result"
    }
   ],
   "source": [
    "print(X_train.shape)\n",
    "X_train.head()"
   ]
  },
  {
   "cell_type": "code",
   "execution_count": 71,
   "id": "14ee2dd2",
   "metadata": {},
   "outputs": [
    {
     "data": {
      "text/plain": [
       "category_num\n",
       "2    811\n",
       "0    811\n",
       "3    811\n",
       "1    811\n",
       "Name: count, dtype: int64"
      ]
     },
     "execution_count": 71,
     "metadata": {},
     "output_type": "execute_result"
    }
   ],
   "source": [
    "y_train.value_counts()"
   ]
  },
  {
   "cell_type": "code",
   "execution_count": 72,
   "id": "da5730f4",
   "metadata": {},
   "outputs": [],
   "source": [
    "from sklearn.naive_bayes import MultinomialNB \n",
    "from sklearn.pipeline import Pipeline \n",
    "from sklearn.metrics import classification_report "
   ]
  },
  {
   "cell_type": "code",
   "execution_count": 75,
   "id": "f3a72c6a",
   "metadata": {},
   "outputs": [
    {
     "name": "stdout",
     "output_type": "stream",
     "text": [
      "              precision    recall  f1-score   support\n",
      "\n",
      "           0       0.51      0.58      0.54       203\n",
      "           1       0.59      0.82      0.69       203\n",
      "           2       0.85      0.50      0.63       203\n",
      "           3       0.69      0.63      0.66       203\n",
      "\n",
      "    accuracy                           0.63       812\n",
      "   macro avg       0.66      0.63      0.63       812\n",
      "weighted avg       0.66      0.63      0.63       812\n",
      "\n"
     ]
    }
   ],
   "source": [
    "#1. creating a pipeling object\n",
    "classifier = Pipeline([\n",
    "    (\"vectorizer_bow\",CountVectorizer(ngram_range = (1,2))),\n",
    "    ('Multi NB',MultinomialNB())\n",
    "])\n",
    "#2. fit with x_train and y_train\n",
    "classifier.fit(X_train,y_train)\n",
    "#3. get prediction for x_test and store it in y_pred\n",
    "y_pred = classifier.predict(X_test)\n",
    "#4. print the classification report\n",
    "print(classification_report(y_test,y_pred))"
   ]
  },
  {
   "cell_type": "code",
   "execution_count": 76,
   "id": "81c00044",
   "metadata": {},
   "outputs": [
    {
     "data": {
      "text/plain": [
       "72788     It was just another late Friday night at Wichi...\n",
       "74338     \"I marveled at his maturity,\" a former school ...\n",
       "29914     \"To me, any expression that is empowered and i...\n",
       "106531    LaVerne Evans Srinivasan, the new Vice Preside...\n",
       "41732     “This is an individual just trying to make us ...\n",
       "Name: short_description, dtype: object"
      ]
     },
     "execution_count": 76,
     "metadata": {},
     "output_type": "execute_result"
    }
   ],
   "source": [
    "X_test[:5]"
   ]
  },
  {
   "cell_type": "code",
   "execution_count": 77,
   "id": "42a238e1",
   "metadata": {},
   "outputs": [
    {
     "data": {
      "text/plain": [
       "72788     2\n",
       "74338     2\n",
       "29914     3\n",
       "106531    1\n",
       "41732     2\n",
       "Name: category_num, dtype: int64"
      ]
     },
     "execution_count": 77,
     "metadata": {},
     "output_type": "execute_result"
    }
   ],
   "source": [
    "y_test[:5]"
   ]
  },
  {
   "cell_type": "code",
   "execution_count": 78,
   "id": "34f94155",
   "metadata": {},
   "outputs": [
    {
     "data": {
      "text/plain": [
       "array([1, 2, 3, 1, 1])"
      ]
     },
     "execution_count": 78,
     "metadata": {},
     "output_type": "execute_result"
    }
   ],
   "source": [
    "y_pred[:5]"
   ]
  },
  {
   "cell_type": "code",
   "execution_count": 79,
   "id": "02c70f85",
   "metadata": {},
   "outputs": [],
   "source": [
    "df_balanced['preprocessed_short_description'] = df_balanced.short_description.apply(preprocess)"
   ]
  },
  {
   "cell_type": "code",
   "execution_count": 80,
   "id": "45f2d43b",
   "metadata": {},
   "outputs": [
    {
     "data": {
      "text/html": [
       "<div>\n",
       "<style scoped>\n",
       "    .dataframe tbody tr th:only-of-type {\n",
       "        vertical-align: middle;\n",
       "    }\n",
       "\n",
       "    .dataframe tbody tr th {\n",
       "        vertical-align: top;\n",
       "    }\n",
       "\n",
       "    .dataframe thead th {\n",
       "        text-align: right;\n",
       "    }\n",
       "</style>\n",
       "<table border=\"1\" class=\"dataframe\">\n",
       "  <thead>\n",
       "    <tr style=\"text-align: right;\">\n",
       "      <th></th>\n",
       "      <th>link</th>\n",
       "      <th>headline</th>\n",
       "      <th>category</th>\n",
       "      <th>short_description</th>\n",
       "      <th>authors</th>\n",
       "      <th>date</th>\n",
       "      <th>category_num</th>\n",
       "      <th>preprocessed_short_description</th>\n",
       "    </tr>\n",
       "  </thead>\n",
       "  <tbody>\n",
       "    <tr>\n",
       "      <th>16014</th>\n",
       "      <td>https://www.huffingtonpost.com/entry/trump-hea...</td>\n",
       "      <td>The Coverage Of Trump’s Big Dumb Body Is Fat W...</td>\n",
       "      <td>POLITICS</td>\n",
       "      <td>The president, it evidently needs to be said, ...</td>\n",
       "      <td>Travis Waldron</td>\n",
       "      <td>2018-01-18</td>\n",
       "      <td>0</td>\n",
       "      <td>president evidently need say professional athlete</td>\n",
       "    </tr>\n",
       "    <tr>\n",
       "      <th>25545</th>\n",
       "      <td>https://www.huffingtonpost.com/entry/dreamers-...</td>\n",
       "      <td>Dreamers Are People, Not Political Footballs</td>\n",
       "      <td>POLITICS</td>\n",
       "      <td>People should not be reduced to pawns used by ...</td>\n",
       "      <td>Center for Community Change Action, Contributo...</td>\n",
       "      <td>2017-09-09</td>\n",
       "      <td>0</td>\n",
       "      <td>People reduce pawn official hope garner politi...</td>\n",
       "    </tr>\n",
       "    <tr>\n",
       "      <th>51291</th>\n",
       "      <td>https://www.huffingtonpost.com/entry/democrats...</td>\n",
       "      <td>Democrats Must Elect Bernie Sanders Senate Min...</td>\n",
       "      <td>POLITICS</td>\n",
       "      <td>The Senate will meet this Wednesday to elect i...</td>\n",
       "      <td>Linda Milazzo, ContributorParticipatory journa...</td>\n",
       "      <td>2016-11-13</td>\n",
       "      <td>0</td>\n",
       "      <td>Senate meet Wednesday elect leader</td>\n",
       "    </tr>\n",
       "    <tr>\n",
       "      <th>41123</th>\n",
       "      <td>https://www.huffingtonpost.com/entry/jcc-lette...</td>\n",
       "      <td>Jewish Leaders Frustrated By Lack Of Progress ...</td>\n",
       "      <td>POLITICS</td>\n",
       "      <td>In a letter to Attorney General Jeff Sessions,...</td>\n",
       "      <td>Matt Ferner</td>\n",
       "      <td>2017-03-08</td>\n",
       "      <td>0</td>\n",
       "      <td>letter Attorney General Jeff Sessions ask avai...</td>\n",
       "    </tr>\n",
       "    <tr>\n",
       "      <th>10450</th>\n",
       "      <td>https://www.huffingtonpost.com/entry/donald-tr...</td>\n",
       "      <td>Donald Trump Roasted For Painfully Awkward Att...</td>\n",
       "      <td>POLITICS</td>\n",
       "      <td>Well, that didn't seem to go as planned.</td>\n",
       "      <td>Rebecca Shapiro</td>\n",
       "      <td>2018-04-24</td>\n",
       "      <td>0</td>\n",
       "      <td>plan</td>\n",
       "    </tr>\n",
       "  </tbody>\n",
       "</table>\n",
       "</div>"
      ],
      "text/plain": [
       "                                                    link  \\\n",
       "16014  https://www.huffingtonpost.com/entry/trump-hea...   \n",
       "25545  https://www.huffingtonpost.com/entry/dreamers-...   \n",
       "51291  https://www.huffingtonpost.com/entry/democrats...   \n",
       "41123  https://www.huffingtonpost.com/entry/jcc-lette...   \n",
       "10450  https://www.huffingtonpost.com/entry/donald-tr...   \n",
       "\n",
       "                                                headline  category  \\\n",
       "16014  The Coverage Of Trump’s Big Dumb Body Is Fat W...  POLITICS   \n",
       "25545       Dreamers Are People, Not Political Footballs  POLITICS   \n",
       "51291  Democrats Must Elect Bernie Sanders Senate Min...  POLITICS   \n",
       "41123  Jewish Leaders Frustrated By Lack Of Progress ...  POLITICS   \n",
       "10450  Donald Trump Roasted For Painfully Awkward Att...  POLITICS   \n",
       "\n",
       "                                       short_description  \\\n",
       "16014  The president, it evidently needs to be said, ...   \n",
       "25545  People should not be reduced to pawns used by ...   \n",
       "51291  The Senate will meet this Wednesday to elect i...   \n",
       "41123  In a letter to Attorney General Jeff Sessions,...   \n",
       "10450           Well, that didn't seem to go as planned.   \n",
       "\n",
       "                                                 authors       date  \\\n",
       "16014                                     Travis Waldron 2018-01-18   \n",
       "25545  Center for Community Change Action, Contributo... 2017-09-09   \n",
       "51291  Linda Milazzo, ContributorParticipatory journa... 2016-11-13   \n",
       "41123                                        Matt Ferner 2017-03-08   \n",
       "10450                                    Rebecca Shapiro 2018-04-24   \n",
       "\n",
       "       category_num                     preprocessed_short_description  \n",
       "16014             0  president evidently need say professional athlete  \n",
       "25545             0  People reduce pawn official hope garner politi...  \n",
       "51291             0                 Senate meet Wednesday elect leader  \n",
       "41123             0  letter Attorney General Jeff Sessions ask avai...  \n",
       "10450             0                                               plan  "
      ]
     },
     "execution_count": 80,
     "metadata": {},
     "output_type": "execute_result"
    }
   ],
   "source": [
    "df_balanced.head()"
   ]
  },
  {
   "cell_type": "code",
   "execution_count": 81,
   "id": "a49d88a7",
   "metadata": {},
   "outputs": [],
   "source": [
    "#using preprocessed text for model training\n",
    "X_train, X_test,y_train,y_test = train_test_split(\n",
    "    df_balanced.preprocessed_short_description,\n",
    "    df_balanced.category_num,test_size=0.2,\n",
    "    random_state=2022,stratify = df_balanced.category_num\n",
    ")"
   ]
  },
  {
   "cell_type": "code",
   "execution_count": 82,
   "id": "c7d80283",
   "metadata": {},
   "outputs": [
    {
     "name": "stdout",
     "output_type": "stream",
     "text": [
      "              precision    recall  f1-score   support\n",
      "\n",
      "           0       0.52      0.67      0.59       203\n",
      "           1       0.68      0.79      0.73       203\n",
      "           2       0.76      0.50      0.60       203\n",
      "           3       0.71      0.65      0.68       203\n",
      "\n",
      "    accuracy                           0.65       812\n",
      "   macro avg       0.67      0.65      0.65       812\n",
      "weighted avg       0.67      0.65      0.65       812\n",
      "\n"
     ]
    }
   ],
   "source": [
    "#1. creating a pipeling object\n",
    "classifier = Pipeline([\n",
    "    (\"vectorizer_bow\",CountVectorizer(ngram_range = (1,2))),\n",
    "    ('Multi NB',MultinomialNB())\n",
    "])\n",
    "#2. fit with x_train and y_train\n",
    "classifier.fit(X_train,y_train)\n",
    "#3. get prediction for x_test and store it in y_pred\n",
    "y_pred = classifier.predict(X_test)\n",
    "#4. print the classification report\n",
    "print(classification_report(y_test,y_pred))"
   ]
  },
  {
   "cell_type": "code",
   "execution_count": null,
   "id": "ea93cc9b",
   "metadata": {},
   "outputs": [],
   "source": []
  }
 ],
 "metadata": {
  "kernelspec": {
   "display_name": "Python 3 (ipykernel)",
   "language": "python",
   "name": "python3"
  },
  "language_info": {
   "codemirror_mode": {
    "name": "ipython",
    "version": 3
   },
   "file_extension": ".py",
   "mimetype": "text/x-python",
   "name": "python",
   "nbconvert_exporter": "python",
   "pygments_lexer": "ipython3",
   "version": "3.11.5"
  }
 },
 "nbformat": 4,
 "nbformat_minor": 5
}
