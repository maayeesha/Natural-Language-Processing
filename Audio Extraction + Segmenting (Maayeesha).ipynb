{
 "cells": [
  {
   "cell_type": "code",
   "execution_count": 23,
   "id": "3548d5c2",
   "metadata": {},
   "outputs": [
    {
     "name": "stdout",
     "output_type": "stream",
     "text": [
      "Audio downloaded successfully: NONTE FONTE BENGALI KHISTI 2019 | KHABARER SHAD | FUNNY VIDEO\n"
     ]
    }
   ],
   "source": [
    "#extract audio from a single youtube video\n",
    "from pytube import YouTube\n",
    "\n",
    "def download_audio(url, output_path):\n",
    "    try:\n",
    "        yt = YouTube(url)\n",
    "        audio_stream = yt.streams.filter(only_audio=True).first()\n",
    "        audio_stream.download(output_path)\n",
    "        print(f\"Audio downloaded successfully: {yt.title}\")\n",
    "    except Exception as e:\n",
    "        print(f\"Error downloading audio: {e}\")\n",
    "\n",
    "# Example usage\n",
    "youtube_url = \"https://www.youtube.com/watch?v=yUbXMae3rwE\"\n",
    "output_directory = \"/Users/admin/Desktop/Dataset/Hate\"\n",
    "download_audio(youtube_url, output_directory)"
   ]
  },
  {
   "cell_type": "code",
   "execution_count": 24,
   "id": "fde1b845",
   "metadata": {},
   "outputs": [],
   "source": [
    "#Segmenting a single audio \n",
    "from pydub import AudioSegment\n",
    "import os\n",
    "\n",
    "def segment_audio(input_path, output_directory, segment_duration_seconds):\n",
    "    # Load the audio file\n",
    "    audio = AudioSegment.from_file(input_path)\n",
    "\n",
    "    # Calculate the total duration of the audio in milliseconds\n",
    "    total_duration = len(audio)\n",
    "\n",
    "    # Calculate the number of segments\n",
    "    num_segments = total_duration // (segment_duration_seconds * 1000)\n",
    "\n",
    "    # Create the output directory if it doesn't exist\n",
    "    os.makedirs(output_directory, exist_ok=True)\n",
    "\n",
    "    # Segment the audio and save each segment\n",
    "    for i in range(num_segments):\n",
    "        start_time = i * segment_duration_seconds * 1000\n",
    "        end_time = (i + 1) * segment_duration_seconds * 1000\n",
    "\n",
    "        # Ensure the end_time does not exceed the total duration\n",
    "        end_time = min(end_time, total_duration)\n",
    "\n",
    "        # Extract the segment\n",
    "        segment = audio[start_time:end_time]\n",
    "\n",
    "        # Save the segment\n",
    "        output_path = os.path.join(output_directory, f\"{i+1+210}.wav\")\n",
    "        segment.export(output_path, format=\"wav\")\n",
    "\n",
    "#usage\n",
    "input_audio_path = \"/Users/admin/Desktop/Dataset/Hate/NONTE FONTE BENGALI KHISTI 2019  KHABARER SHAD  FUNNY VIDEO.mp4\"\n",
    "output_segment_directory = \"/Users/admin/Desktop/Dataset/SegmentHate\"\n",
    "segment_duration_seconds = 10 #change the segment duration according to your dataset need\n",
    "\n",
    "segment_audio(input_audio_path, output_segment_directory, segment_duration_seconds)"
   ]
  },
  {
   "cell_type": "code",
   "execution_count": 23,
   "id": "256f2e7d",
   "metadata": {},
   "outputs": [
    {
     "name": "stdout",
     "output_type": "stream",
     "text": [
      "Skipping non-audio file: .DS_Store\n"
     ]
    }
   ],
   "source": [
    "from pydub import AudioSegment\n",
    "import os\n",
    "\n",
    "def segment_audio(input_path, output_directory, segment_duration_seconds):\n",
    "\n",
    "    # Load the audio file\n",
    "    audio = AudioSegment.from_file(input_path)\n",
    "\n",
    "    # Calculate the total duration of the audio in milliseconds\n",
    "    total_duration = len(audio)\n",
    "\n",
    "    # Calculate the number of segments\n",
    "    num_segments = total_duration // (segment_duration_seconds * 1000)\n",
    "\n",
    "    # Create the output directory if it doesn't exist\n",
    "    os.makedirs(output_directory, exist_ok=True)\n",
    "\n",
    "    # Segment the audio and save each segment\n",
    "    for i in range(num_segments):\n",
    "        start_time = i * segment_duration_seconds * 1000\n",
    "        end_time = (i + 1) * segment_duration_seconds * 1000\n",
    "\n",
    "        # Ensure the end_time does not exceed the total duration\n",
    "        end_time = min(end_time, total_duration)\n",
    "\n",
    "        # Extract the segment\n",
    "        segment = audio[start_time:end_time]\n",
    "\n",
    "        # Save the segment\n",
    "        output_path = os.path.join(output_directory, f\"segment_{i+1}.wav\")\n",
    "        segment.export(output_path, format=\"wav\")\n",
    "\n",
    "# Specify the audio folder path (replace with your actual path)\n",
    "audio_folder_path = \"/Users/admin/Documents/thesis/audio/hate\"\n",
    "\n",
    "# Specify the output directory path (replace with your desired path)\n",
    "output_segment_directory = \"/Users/admin/Documents/thesis/segments_all\"\n",
    "\n",
    "# Segment duration (in seconds)\n",
    "segment_duration_seconds = 10\n",
    "\n",
    "# Loop through all audio files and segment them\n",
    "for filename in os.listdir(audio_folder_path):\n",
    "    # Include more extensions as needed (e.g., .flac, .ogg)\n",
    "    if filename.endswith((\".mp3\", \".wav\", \".mp4\", \".flac\", \".ogg\")):\n",
    "        audio_file_path = os.path.join(audio_folder_path, filename)\n",
    "        try:\n",
    "            segment_audio(audio_file_path, output_segment_directory, segment_duration_seconds)\n",
    "        except Exception as e:  # Catch errors during segmentation\n",
    "            print(f\"Error processing {filename}: {e}\")\n",
    "    else:\n",
    "        print(f\"Skipping non-audio file: {filename}\")"
   ]
  },
  {
   "cell_type": "code",
   "execution_count": null,
   "id": "f2f88ef1",
   "metadata": {},
   "outputs": [],
   "source": []
  },
  {
   "cell_type": "code",
   "execution_count": null,
   "id": "04942d48",
   "metadata": {},
   "outputs": [],
   "source": []
  },
  {
   "cell_type": "code",
   "execution_count": null,
   "id": "59a2b720",
   "metadata": {},
   "outputs": [],
   "source": []
  }
 ],
 "metadata": {
  "kernelspec": {
   "display_name": "Python 3 (ipykernel)",
   "language": "python",
   "name": "python3"
  },
  "language_info": {
   "codemirror_mode": {
    "name": "ipython",
    "version": 3
   },
   "file_extension": ".py",
   "mimetype": "text/x-python",
   "name": "python",
   "nbconvert_exporter": "python",
   "pygments_lexer": "ipython3",
   "version": "3.11.5"
  }
 },
 "nbformat": 4,
 "nbformat_minor": 5
}
