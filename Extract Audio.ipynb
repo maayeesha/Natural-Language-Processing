{
 "cells": [
  {
   "cell_type": "code",
   "execution_count": 44,
   "id": "98d70851",
   "metadata": {},
   "outputs": [
    {
     "name": "stdout",
     "output_type": "stream",
     "text": [
      "Audio downloaded successfully: ৪ কোটিরও বেশি টায়ারকে পুনর্ব্যবহারযোগ্য করে তুলছে কুয়েত! | Tyre Recycling | Kuwait | Somoy TV\n"
     ]
    }
   ],
   "source": [
    "from pytube import YouTube\n",
    "\n",
    "def download_audio(url, output_path):\n",
    "    try:\n",
    "        yt = YouTube(url)\n",
    "        audio_stream = yt.streams.filter(only_audio=True).first()\n",
    "        audio_stream.download(output_path)\n",
    "        print(f\"Audio downloaded successfully: {yt.title}\")\n",
    "    except Exception as e:\n",
    "        print(f\"Error downloading audio: {e}\")\n",
    "\n",
    "# Example usage\n",
    "youtube_url = \"https://www.youtube.com/watch?v=gb3kl0rtB2s\"\n",
    "output_directory = \"/Users/admin/Documents/nlp-tutorials/audio\"\n",
    "download_audio(youtube_url, output_directory)\n"
   ]
  },
  {
   "cell_type": "code",
   "execution_count": 4,
   "id": "f5600cb9",
   "metadata": {},
   "outputs": [
    {
     "name": "stdout",
     "output_type": "stream",
     "text": [
      "Collecting pydub\n",
      "  Downloading pydub-0.25.1-py2.py3-none-any.whl (32 kB)\n",
      "Installing collected packages: pydub\n",
      "Successfully installed pydub-0.25.1\n",
      "Note: you may need to restart the kernel to use updated packages.\n"
     ]
    }
   ],
   "source": [
    "pip install pydub"
   ]
  },
  {
   "cell_type": "code",
   "execution_count": 6,
   "id": "6950e090",
   "metadata": {},
   "outputs": [],
   "source": [
    "from pydub import AudioSegment\n",
    "import os\n",
    "\n",
    "def segment_audio(input_path, output_directory, segment_duration_seconds):\n",
    "    # Load the audio file\n",
    "    audio = AudioSegment.from_file(input_path)\n",
    "\n",
    "    # Calculate the total duration of the audio in milliseconds\n",
    "    total_duration = len(audio)\n",
    "\n",
    "    # Calculate the number of segments\n",
    "    num_segments = total_duration // (segment_duration_seconds * 1000)\n",
    "\n",
    "    # Create the output directory if it doesn't exist\n",
    "    os.makedirs(output_directory, exist_ok=True)\n",
    "\n",
    "    # Segment the audio and save each segment\n",
    "    for i in range(num_segments):\n",
    "        start_time = i * segment_duration_seconds * 1000\n",
    "        end_time = (i + 1) * segment_duration_seconds * 1000\n",
    "\n",
    "        # Ensure the end_time does not exceed the total duration\n",
    "        end_time = min(end_time, total_duration)\n",
    "\n",
    "        # Extract the segment\n",
    "        segment = audio[start_time:end_time]\n",
    "\n",
    "        # Save the segment\n",
    "        output_path = os.path.join(output_directory, f\"segment_{i+1}.wav\")\n",
    "        segment.export(output_path, format=\"wav\")\n",
    "\n",
    "# Example usage\n",
    "input_audio_path = \"/Users/admin/Documents/nlp-tutorials/audio/৪ কোটিরও বেশি টায়ারকে পুনর্ব্যবহারযোগ্য করে তুলছে কুয়েত!  Tyre Recycling  Kuwait  Somoy TV.mp4\"\n",
    "output_segment_directory = \"/Users/admin/Documents/nlp-tutorials/segments\"\n",
    "segment_duration_seconds = 20\n",
    "\n",
    "segment_audio(input_audio_path, output_segment_directory, segment_duration_seconds)\n"
   ]
  },
  {
   "cell_type": "code",
   "execution_count": null,
   "id": "299885d5",
   "metadata": {},
   "outputs": [],
   "source": []
  }
 ],
 "metadata": {
  "kernelspec": {
   "display_name": "Python 3 (ipykernel)",
   "language": "python",
   "name": "python3"
  },
  "language_info": {
   "codemirror_mode": {
    "name": "ipython",
    "version": 3
   },
   "file_extension": ".py",
   "mimetype": "text/x-python",
   "name": "python",
   "nbconvert_exporter": "python",
   "pygments_lexer": "ipython3",
   "version": "3.11.5"
  }
 },
 "nbformat": 4,
 "nbformat_minor": 5
}
